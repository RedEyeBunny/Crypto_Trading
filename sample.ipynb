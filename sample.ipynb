{
 "cells": [
  {
   "cell_type": "code",
   "execution_count": 29,
   "id": "initial_id",
   "metadata": {
    "collapsed": true,
    "ExecuteTime": {
     "end_time": "2024-04-30T07:50:14.167893594Z",
     "start_time": "2024-04-30T07:50:14.159908476Z"
    }
   },
   "outputs": [],
   "source": [
    "import pandas as pd\n",
    "import talib\n",
    "import datetime as dt\n",
    "import hmac\n",
    "import hashlib\n",
    "import json\n",
    "import time\n",
    "import requests"
   ]
  },
  {
   "cell_type": "code",
   "outputs": [],
   "source": [
    "API_Key = \"\"\n",
    "API_Secret = \"\"\n",
    "secret_bytes = bytes(API_Secret, encoding='utf-8')\n",
    "timeStamp = int(round(time.time() * 1000))\n",
    "\n",
    "def data_downloader(pair,interval,limit = 50,exchange = \"I\"):\n",
    "    url = f\"https://public.coindcx.com/market_data/candles?pair={exchange}-{pair}&interval={interval}&limit={limit}\" \n",
    "    response = requests.get(url)\n",
    "    data = response.json()\n",
    "    df = pd.DataFrame(data)\n",
    "    df['date_time'] = df['time'].apply(lambda x: time.strftime(\"%Y-%m-%d %H:%M:%S\",time.localtime(int(str(x)[:-3]))))\n",
    "    df['date_time'] = pd.to_datetime(df['date_time'])\n",
    "    return df\n",
    "\n",
    "def place_order(side:str,pair:str,price:float,quantity:float):\n",
    "    body = {\n",
    "        \"side\": side,\"order_type\": \"limit_order\",\n",
    "        \"market\": pair,\"price_per_unit\": price,\n",
    "        \"total_quantity\": quantity,\"timestamp\": timeStamp,\n",
    "        \"client_order_id\": \"2022.02.14-btcinr_1\"}\n",
    "    json_body = json.dumps(body, separators = (',', ':'))\n",
    "    signature = hmac.new(secret_bytes, json_body.encode(), hashlib.sha256).hexdigest()\n",
    "    url = \"https://api.coindcx.com/exchange/v1/orders/create\"\n",
    "    headers = {'Content-Type': 'application/json','X-AUTH-APIKEY': API_Key,'X-AUTH-SIGNATURE': signature}\n",
    "    response = requests.post(url, data = json_body, headers = headers)\n",
    "    data = response.json()\n",
    "    print(data)\n",
    "\n",
    "def get_acc_bal():\n",
    "    body = {\n",
    "        \"timestamp\": timeStamp\n",
    "    }\n",
    "    \n",
    "    json_body = json.dumps(body, separators = (',', ':'))\n",
    "    \n",
    "    signature = hmac.new(secret_bytes, json_body.encode(), hashlib.sha256).hexdigest()\n",
    "    \n",
    "    url = \"https://api.coindcx.com/exchange/v1/users/balances\"\n",
    "    \n",
    "    headers = {\n",
    "        'Content-Type': 'application/json',\n",
    "        'X-AUTH-APIKEY': API_Key,\n",
    "        'X-AUTH-SIGNATURE': signature\n",
    "    }\n",
    "    \n",
    "    response = requests.post(url, data = json_body, headers = headers)\n",
    "    data = response.json();\n",
    "    print(data)\n"
   ],
   "metadata": {
    "collapsed": false,
    "ExecuteTime": {
     "end_time": "2024-04-30T07:50:14.221167742Z",
     "start_time": "2024-04-30T07:50:14.166322219Z"
    }
   },
   "id": "5fb0bb5eb725d035",
   "execution_count": 30
  },
  {
   "cell_type": "code",
   "outputs": [
    {
     "data": {
      "text/plain": "             date_time        open        high         low    volume  \\\n0  2024-04-30 13:20:00  5825999.70  5825999.70  5825999.70  0.000000   \n1  2024-04-30 13:19:00  5826999.80  5826999.80  5749501.32  0.001040   \n2  2024-04-30 13:18:00  5827999.80  5828999.99  5748301.18  0.000396   \n3  2024-04-30 13:17:00  5827999.99  5829999.99  5826999.78  0.000374   \n4  2024-04-30 13:16:00  5831898.78  5834899.00  5827999.98  0.000323   \n5  2024-04-30 13:15:00  5834898.99  5834898.99  5831898.78  0.000119   \n6  2024-04-30 13:14:00  5742200.50  5834898.99  5742200.50  0.000202   \n7  2024-04-30 13:13:00  5832898.92  5834898.99  5742200.50  0.001056   \n8  2024-04-30 13:12:00  5832898.80  5834898.99  5832898.80  0.000119   \n9  2024-04-30 13:11:00  5832898.80  5834898.80  5831898.75  0.000243   \n10 2024-04-30 13:10:00  5837899.79  5837899.79  5832898.80  0.000085   \n11 2024-04-30 13:09:00  5830899.30  5837899.79  5739300.17  0.002432   \n12 2024-04-30 13:08:00  5833899.60  5833899.60  5738700.12  0.000453   \n13 2024-04-30 13:07:00  5835899.80  5835899.80  5833899.60  0.000238   \n14 2024-04-30 13:06:00  5837900.00  5837900.00  5835899.80  0.000647   \n15 2024-04-30 13:05:00  5730000.00  5838900.00  5704900.12  0.241507   \n16 2024-04-30 13:04:00  5730000.00  5765588.40  5705000.14  0.000211   \n17 2024-04-30 13:03:00  5765788.60  5765788.60  5730000.00  0.000243   \n18 2024-04-30 13:02:00  5706100.45  5765888.70  5706100.45  0.000454   \n19 2024-04-30 13:01:00  5765988.80  5765988.80  5706100.45  0.000020   \n20 2024-04-30 13:00:00  5766189.00  5766189.00  5765988.80  0.000051   \n21 2024-04-30 12:59:00  5766189.00  5766189.00  5705300.27  0.000098   \n22 2024-04-30 12:58:00  5766289.40  5766289.40  5766189.00  0.000326   \n23 2024-04-30 12:57:00  5766389.50  5766389.50  5706200.46  0.000185   \n24 2024-04-30 12:56:00  5705500.20  5766789.66  5705500.20  0.000896   \n25 2024-04-30 12:55:00  5767589.90  5767589.90  5705500.20  0.000182   \n26 2024-04-30 12:54:00  5707200.42  5767990.28  5707200.42  0.000154   \n27 2024-04-30 12:53:00  5768690.40  5768690.40  5707200.42  0.000237   \n28 2024-04-30 12:52:00  5768490.36  5768790.58  5768390.34  0.001982   \n29 2024-04-30 12:51:00  5767890.46  5768790.40  5704800.12  0.000861   \n30 2024-04-30 12:50:00  5768190.51  5768190.51  5767890.46  0.000188   \n31 2024-04-30 12:49:00  5768890.59  5768890.59  5707300.76  0.000319   \n32 2024-04-30 12:48:00  5768890.60  5768890.60  5768290.19  0.000278   \n33 2024-04-30 12:47:00  5768290.37  5768890.60  5706800.66  0.000642   \n34 2024-04-30 12:46:00  5705900.43  5768490.38  5705900.43  0.001628   \n35 2024-04-30 12:45:00  5767990.10  5768690.37  5705700.40  0.001408   \n36 2024-04-30 12:44:00  5768390.45  5768390.45  5767990.10  0.000172   \n37 2024-04-30 12:43:00  5768790.50  5768790.50  5768390.45  0.000206   \n38 2024-04-30 12:42:00  5768590.37  5768590.37  5705100.17  0.000600   \n39 2024-04-30 12:41:00  5768590.38  5768590.38  5768590.37  0.000034   \n40 2024-04-30 12:40:00  5767889.80  5768590.38  5767889.79  0.000213   \n41 2024-04-30 12:39:00  5704700.08  5768190.00  5704700.08  0.003460   \n42 2024-04-30 12:38:00  5768390.20  5768390.20  5704700.08  0.000640   \n43 2024-04-30 12:37:00  5768690.40  5768690.40  5768390.20  0.000172   \n44 2024-04-30 12:36:00  5767989.99  5768690.57  5705000.08  0.002459   \n45 2024-04-30 12:35:00  5768690.40  5768690.40  5767989.99  0.000301   \n46 2024-04-30 12:34:00  5704300.01  5768890.59  5704300.01  0.000395   \n47 2024-04-30 12:33:00  5768390.33  5768390.33  5704300.01  0.000114   \n48 2024-04-30 12:32:00  5768390.33  5768390.33  5768390.33  0.000000   \n49 2024-04-30 12:31:00  5768289.49  5768490.34  5704100.13  0.001427   \n\n         close        rsi  \n0   5825999.70        NaN  \n1   5825999.70        NaN  \n2   5826999.80        NaN  \n3   5827999.80        NaN  \n4   5827999.99        NaN  \n5   5831898.78        NaN  \n6   5834898.99        NaN  \n7   5742200.50        NaN  \n8   5832898.92        NaN  \n9   5832898.80        NaN  \n10  5832898.80        NaN  \n11  5837899.79        NaN  \n12  5830899.30        NaN  \n13  5833899.60        NaN  \n14  5835899.80        NaN  \n15  5837900.00  52.815993  \n16  5730000.00  34.138108  \n17  5730000.00  34.138108  \n18  5765788.60  41.954090  \n19  5706100.45  34.613911  \n20  5765988.80  44.965055  \n21  5766189.00  44.996242  \n22  5766189.00  44.996242  \n23  5766289.40  45.014181  \n24  5766389.50  45.033331  \n25  5705500.20  36.702719  \n26  5767589.90  47.344786  \n27  5707200.42  40.286415  \n28  5768690.40  48.639847  \n29  5768490.36  48.616141  \n30  5767890.46  48.540129  \n31  5768190.51  48.583210  \n32  5768890.59  48.690592  \n33  5768890.60  48.690594  \n34  5768290.37  48.590714  \n35  5705900.43  39.554514  \n36  5767990.10  49.556876  \n37  5768390.45  49.614477  \n38  5705100.17  41.573587  \n39  5768590.37  50.241182  \n40  5768590.38  50.241184  \n41  5767889.80  50.146949  \n42  5704700.08  42.452062  \n43  5768390.20  50.632680  \n44  5768690.40  50.668095  \n45  5767989.99  50.577395  \n46  5768690.40  50.672004  \n47  5704300.01  42.633312  \n48  5768390.33  50.934302  \n49  5768390.33  50.934302  ",
      "text/html": "<div>\n<style scoped>\n    .dataframe tbody tr th:only-of-type {\n        vertical-align: middle;\n    }\n\n    .dataframe tbody tr th {\n        vertical-align: top;\n    }\n\n    .dataframe thead th {\n        text-align: right;\n    }\n</style>\n<table border=\"1\" class=\"dataframe\">\n  <thead>\n    <tr style=\"text-align: right;\">\n      <th></th>\n      <th>date_time</th>\n      <th>open</th>\n      <th>high</th>\n      <th>low</th>\n      <th>volume</th>\n      <th>close</th>\n      <th>rsi</th>\n    </tr>\n  </thead>\n  <tbody>\n    <tr>\n      <th>0</th>\n      <td>2024-04-30 13:20:00</td>\n      <td>5825999.70</td>\n      <td>5825999.70</td>\n      <td>5825999.70</td>\n      <td>0.000000</td>\n      <td>5825999.70</td>\n      <td>NaN</td>\n    </tr>\n    <tr>\n      <th>1</th>\n      <td>2024-04-30 13:19:00</td>\n      <td>5826999.80</td>\n      <td>5826999.80</td>\n      <td>5749501.32</td>\n      <td>0.001040</td>\n      <td>5825999.70</td>\n      <td>NaN</td>\n    </tr>\n    <tr>\n      <th>2</th>\n      <td>2024-04-30 13:18:00</td>\n      <td>5827999.80</td>\n      <td>5828999.99</td>\n      <td>5748301.18</td>\n      <td>0.000396</td>\n      <td>5826999.80</td>\n      <td>NaN</td>\n    </tr>\n    <tr>\n      <th>3</th>\n      <td>2024-04-30 13:17:00</td>\n      <td>5827999.99</td>\n      <td>5829999.99</td>\n      <td>5826999.78</td>\n      <td>0.000374</td>\n      <td>5827999.80</td>\n      <td>NaN</td>\n    </tr>\n    <tr>\n      <th>4</th>\n      <td>2024-04-30 13:16:00</td>\n      <td>5831898.78</td>\n      <td>5834899.00</td>\n      <td>5827999.98</td>\n      <td>0.000323</td>\n      <td>5827999.99</td>\n      <td>NaN</td>\n    </tr>\n    <tr>\n      <th>5</th>\n      <td>2024-04-30 13:15:00</td>\n      <td>5834898.99</td>\n      <td>5834898.99</td>\n      <td>5831898.78</td>\n      <td>0.000119</td>\n      <td>5831898.78</td>\n      <td>NaN</td>\n    </tr>\n    <tr>\n      <th>6</th>\n      <td>2024-04-30 13:14:00</td>\n      <td>5742200.50</td>\n      <td>5834898.99</td>\n      <td>5742200.50</td>\n      <td>0.000202</td>\n      <td>5834898.99</td>\n      <td>NaN</td>\n    </tr>\n    <tr>\n      <th>7</th>\n      <td>2024-04-30 13:13:00</td>\n      <td>5832898.92</td>\n      <td>5834898.99</td>\n      <td>5742200.50</td>\n      <td>0.001056</td>\n      <td>5742200.50</td>\n      <td>NaN</td>\n    </tr>\n    <tr>\n      <th>8</th>\n      <td>2024-04-30 13:12:00</td>\n      <td>5832898.80</td>\n      <td>5834898.99</td>\n      <td>5832898.80</td>\n      <td>0.000119</td>\n      <td>5832898.92</td>\n      <td>NaN</td>\n    </tr>\n    <tr>\n      <th>9</th>\n      <td>2024-04-30 13:11:00</td>\n      <td>5832898.80</td>\n      <td>5834898.80</td>\n      <td>5831898.75</td>\n      <td>0.000243</td>\n      <td>5832898.80</td>\n      <td>NaN</td>\n    </tr>\n    <tr>\n      <th>10</th>\n      <td>2024-04-30 13:10:00</td>\n      <td>5837899.79</td>\n      <td>5837899.79</td>\n      <td>5832898.80</td>\n      <td>0.000085</td>\n      <td>5832898.80</td>\n      <td>NaN</td>\n    </tr>\n    <tr>\n      <th>11</th>\n      <td>2024-04-30 13:09:00</td>\n      <td>5830899.30</td>\n      <td>5837899.79</td>\n      <td>5739300.17</td>\n      <td>0.002432</td>\n      <td>5837899.79</td>\n      <td>NaN</td>\n    </tr>\n    <tr>\n      <th>12</th>\n      <td>2024-04-30 13:08:00</td>\n      <td>5833899.60</td>\n      <td>5833899.60</td>\n      <td>5738700.12</td>\n      <td>0.000453</td>\n      <td>5830899.30</td>\n      <td>NaN</td>\n    </tr>\n    <tr>\n      <th>13</th>\n      <td>2024-04-30 13:07:00</td>\n      <td>5835899.80</td>\n      <td>5835899.80</td>\n      <td>5833899.60</td>\n      <td>0.000238</td>\n      <td>5833899.60</td>\n      <td>NaN</td>\n    </tr>\n    <tr>\n      <th>14</th>\n      <td>2024-04-30 13:06:00</td>\n      <td>5837900.00</td>\n      <td>5837900.00</td>\n      <td>5835899.80</td>\n      <td>0.000647</td>\n      <td>5835899.80</td>\n      <td>NaN</td>\n    </tr>\n    <tr>\n      <th>15</th>\n      <td>2024-04-30 13:05:00</td>\n      <td>5730000.00</td>\n      <td>5838900.00</td>\n      <td>5704900.12</td>\n      <td>0.241507</td>\n      <td>5837900.00</td>\n      <td>52.815993</td>\n    </tr>\n    <tr>\n      <th>16</th>\n      <td>2024-04-30 13:04:00</td>\n      <td>5730000.00</td>\n      <td>5765588.40</td>\n      <td>5705000.14</td>\n      <td>0.000211</td>\n      <td>5730000.00</td>\n      <td>34.138108</td>\n    </tr>\n    <tr>\n      <th>17</th>\n      <td>2024-04-30 13:03:00</td>\n      <td>5765788.60</td>\n      <td>5765788.60</td>\n      <td>5730000.00</td>\n      <td>0.000243</td>\n      <td>5730000.00</td>\n      <td>34.138108</td>\n    </tr>\n    <tr>\n      <th>18</th>\n      <td>2024-04-30 13:02:00</td>\n      <td>5706100.45</td>\n      <td>5765888.70</td>\n      <td>5706100.45</td>\n      <td>0.000454</td>\n      <td>5765788.60</td>\n      <td>41.954090</td>\n    </tr>\n    <tr>\n      <th>19</th>\n      <td>2024-04-30 13:01:00</td>\n      <td>5765988.80</td>\n      <td>5765988.80</td>\n      <td>5706100.45</td>\n      <td>0.000020</td>\n      <td>5706100.45</td>\n      <td>34.613911</td>\n    </tr>\n    <tr>\n      <th>20</th>\n      <td>2024-04-30 13:00:00</td>\n      <td>5766189.00</td>\n      <td>5766189.00</td>\n      <td>5765988.80</td>\n      <td>0.000051</td>\n      <td>5765988.80</td>\n      <td>44.965055</td>\n    </tr>\n    <tr>\n      <th>21</th>\n      <td>2024-04-30 12:59:00</td>\n      <td>5766189.00</td>\n      <td>5766189.00</td>\n      <td>5705300.27</td>\n      <td>0.000098</td>\n      <td>5766189.00</td>\n      <td>44.996242</td>\n    </tr>\n    <tr>\n      <th>22</th>\n      <td>2024-04-30 12:58:00</td>\n      <td>5766289.40</td>\n      <td>5766289.40</td>\n      <td>5766189.00</td>\n      <td>0.000326</td>\n      <td>5766189.00</td>\n      <td>44.996242</td>\n    </tr>\n    <tr>\n      <th>23</th>\n      <td>2024-04-30 12:57:00</td>\n      <td>5766389.50</td>\n      <td>5766389.50</td>\n      <td>5706200.46</td>\n      <td>0.000185</td>\n      <td>5766289.40</td>\n      <td>45.014181</td>\n    </tr>\n    <tr>\n      <th>24</th>\n      <td>2024-04-30 12:56:00</td>\n      <td>5705500.20</td>\n      <td>5766789.66</td>\n      <td>5705500.20</td>\n      <td>0.000896</td>\n      <td>5766389.50</td>\n      <td>45.033331</td>\n    </tr>\n    <tr>\n      <th>25</th>\n      <td>2024-04-30 12:55:00</td>\n      <td>5767589.90</td>\n      <td>5767589.90</td>\n      <td>5705500.20</td>\n      <td>0.000182</td>\n      <td>5705500.20</td>\n      <td>36.702719</td>\n    </tr>\n    <tr>\n      <th>26</th>\n      <td>2024-04-30 12:54:00</td>\n      <td>5707200.42</td>\n      <td>5767990.28</td>\n      <td>5707200.42</td>\n      <td>0.000154</td>\n      <td>5767589.90</td>\n      <td>47.344786</td>\n    </tr>\n    <tr>\n      <th>27</th>\n      <td>2024-04-30 12:53:00</td>\n      <td>5768690.40</td>\n      <td>5768690.40</td>\n      <td>5707200.42</td>\n      <td>0.000237</td>\n      <td>5707200.42</td>\n      <td>40.286415</td>\n    </tr>\n    <tr>\n      <th>28</th>\n      <td>2024-04-30 12:52:00</td>\n      <td>5768490.36</td>\n      <td>5768790.58</td>\n      <td>5768390.34</td>\n      <td>0.001982</td>\n      <td>5768690.40</td>\n      <td>48.639847</td>\n    </tr>\n    <tr>\n      <th>29</th>\n      <td>2024-04-30 12:51:00</td>\n      <td>5767890.46</td>\n      <td>5768790.40</td>\n      <td>5704800.12</td>\n      <td>0.000861</td>\n      <td>5768490.36</td>\n      <td>48.616141</td>\n    </tr>\n    <tr>\n      <th>30</th>\n      <td>2024-04-30 12:50:00</td>\n      <td>5768190.51</td>\n      <td>5768190.51</td>\n      <td>5767890.46</td>\n      <td>0.000188</td>\n      <td>5767890.46</td>\n      <td>48.540129</td>\n    </tr>\n    <tr>\n      <th>31</th>\n      <td>2024-04-30 12:49:00</td>\n      <td>5768890.59</td>\n      <td>5768890.59</td>\n      <td>5707300.76</td>\n      <td>0.000319</td>\n      <td>5768190.51</td>\n      <td>48.583210</td>\n    </tr>\n    <tr>\n      <th>32</th>\n      <td>2024-04-30 12:48:00</td>\n      <td>5768890.60</td>\n      <td>5768890.60</td>\n      <td>5768290.19</td>\n      <td>0.000278</td>\n      <td>5768890.59</td>\n      <td>48.690592</td>\n    </tr>\n    <tr>\n      <th>33</th>\n      <td>2024-04-30 12:47:00</td>\n      <td>5768290.37</td>\n      <td>5768890.60</td>\n      <td>5706800.66</td>\n      <td>0.000642</td>\n      <td>5768890.60</td>\n      <td>48.690594</td>\n    </tr>\n    <tr>\n      <th>34</th>\n      <td>2024-04-30 12:46:00</td>\n      <td>5705900.43</td>\n      <td>5768490.38</td>\n      <td>5705900.43</td>\n      <td>0.001628</td>\n      <td>5768290.37</td>\n      <td>48.590714</td>\n    </tr>\n    <tr>\n      <th>35</th>\n      <td>2024-04-30 12:45:00</td>\n      <td>5767990.10</td>\n      <td>5768690.37</td>\n      <td>5705700.40</td>\n      <td>0.001408</td>\n      <td>5705900.43</td>\n      <td>39.554514</td>\n    </tr>\n    <tr>\n      <th>36</th>\n      <td>2024-04-30 12:44:00</td>\n      <td>5768390.45</td>\n      <td>5768390.45</td>\n      <td>5767990.10</td>\n      <td>0.000172</td>\n      <td>5767990.10</td>\n      <td>49.556876</td>\n    </tr>\n    <tr>\n      <th>37</th>\n      <td>2024-04-30 12:43:00</td>\n      <td>5768790.50</td>\n      <td>5768790.50</td>\n      <td>5768390.45</td>\n      <td>0.000206</td>\n      <td>5768390.45</td>\n      <td>49.614477</td>\n    </tr>\n    <tr>\n      <th>38</th>\n      <td>2024-04-30 12:42:00</td>\n      <td>5768590.37</td>\n      <td>5768590.37</td>\n      <td>5705100.17</td>\n      <td>0.000600</td>\n      <td>5705100.17</td>\n      <td>41.573587</td>\n    </tr>\n    <tr>\n      <th>39</th>\n      <td>2024-04-30 12:41:00</td>\n      <td>5768590.38</td>\n      <td>5768590.38</td>\n      <td>5768590.37</td>\n      <td>0.000034</td>\n      <td>5768590.37</td>\n      <td>50.241182</td>\n    </tr>\n    <tr>\n      <th>40</th>\n      <td>2024-04-30 12:40:00</td>\n      <td>5767889.80</td>\n      <td>5768590.38</td>\n      <td>5767889.79</td>\n      <td>0.000213</td>\n      <td>5768590.38</td>\n      <td>50.241184</td>\n    </tr>\n    <tr>\n      <th>41</th>\n      <td>2024-04-30 12:39:00</td>\n      <td>5704700.08</td>\n      <td>5768190.00</td>\n      <td>5704700.08</td>\n      <td>0.003460</td>\n      <td>5767889.80</td>\n      <td>50.146949</td>\n    </tr>\n    <tr>\n      <th>42</th>\n      <td>2024-04-30 12:38:00</td>\n      <td>5768390.20</td>\n      <td>5768390.20</td>\n      <td>5704700.08</td>\n      <td>0.000640</td>\n      <td>5704700.08</td>\n      <td>42.452062</td>\n    </tr>\n    <tr>\n      <th>43</th>\n      <td>2024-04-30 12:37:00</td>\n      <td>5768690.40</td>\n      <td>5768690.40</td>\n      <td>5768390.20</td>\n      <td>0.000172</td>\n      <td>5768390.20</td>\n      <td>50.632680</td>\n    </tr>\n    <tr>\n      <th>44</th>\n      <td>2024-04-30 12:36:00</td>\n      <td>5767989.99</td>\n      <td>5768690.57</td>\n      <td>5705000.08</td>\n      <td>0.002459</td>\n      <td>5768690.40</td>\n      <td>50.668095</td>\n    </tr>\n    <tr>\n      <th>45</th>\n      <td>2024-04-30 12:35:00</td>\n      <td>5768690.40</td>\n      <td>5768690.40</td>\n      <td>5767989.99</td>\n      <td>0.000301</td>\n      <td>5767989.99</td>\n      <td>50.577395</td>\n    </tr>\n    <tr>\n      <th>46</th>\n      <td>2024-04-30 12:34:00</td>\n      <td>5704300.01</td>\n      <td>5768890.59</td>\n      <td>5704300.01</td>\n      <td>0.000395</td>\n      <td>5768690.40</td>\n      <td>50.672004</td>\n    </tr>\n    <tr>\n      <th>47</th>\n      <td>2024-04-30 12:33:00</td>\n      <td>5768390.33</td>\n      <td>5768390.33</td>\n      <td>5704300.01</td>\n      <td>0.000114</td>\n      <td>5704300.01</td>\n      <td>42.633312</td>\n    </tr>\n    <tr>\n      <th>48</th>\n      <td>2024-04-30 12:32:00</td>\n      <td>5768390.33</td>\n      <td>5768390.33</td>\n      <td>5768390.33</td>\n      <td>0.000000</td>\n      <td>5768390.33</td>\n      <td>50.934302</td>\n    </tr>\n    <tr>\n      <th>49</th>\n      <td>2024-04-30 12:31:00</td>\n      <td>5768289.49</td>\n      <td>5768490.34</td>\n      <td>5704100.13</td>\n      <td>0.001427</td>\n      <td>5768390.33</td>\n      <td>50.934302</td>\n    </tr>\n  </tbody>\n</table>\n</div>"
     },
     "execution_count": 31,
     "metadata": {},
     "output_type": "execute_result"
    }
   ],
   "source": [
    "df = data_downloader(\"BTC_INR\", \"1m\", \"50\",\"I\")\n",
    "df['rsi'] = talib.RSI(df[\"close\"],timeperiod=15)\n",
    "df[[\"date_time\",\"open\",\"high\",\"low\",\"volume\",\"close\",\"rsi\"]]"
   ],
   "metadata": {
    "collapsed": false,
    "ExecuteTime": {
     "end_time": "2024-04-30T07:50:14.733154197Z",
     "start_time": "2024-04-30T07:50:14.221394171Z"
    }
   },
   "id": "a1c9bf2249b27449",
   "execution_count": 31
  },
  {
   "cell_type": "code",
   "outputs": [
    {
     "name": "stdout",
     "output_type": "stream",
     "text": [
      "[{'balance': '0.0', 'locked_balance': '0.0', 'currency': 'FTM'}]\n"
     ]
    }
   ],
   "source": [
    "#get_account_bal test\n",
    "acc = get_acc_bal()"
   ],
   "metadata": {
    "collapsed": false,
    "ExecuteTime": {
     "end_time": "2024-04-30T08:05:33.653727351Z",
     "start_time": "2024-04-30T08:05:33.206948428Z"
    }
   },
   "id": "37c2eb06a15a131e",
   "execution_count": 38
  },
  {
   "cell_type": "code",
   "outputs": [
    {
     "name": "stdout",
     "output_type": "stream",
     "text": [
      "['ONDO_INR', 'AVAX_INR', 'PIXEL_INR', 'FLOKI_INR', 'PENDLE_INR', 'ZCX_INR', 'HNT_INR', 'SPELL_INR', 'XAI_INR', 'JASMY_INR', 'BCUT_INR', 'RVN_INR', 'LTC_INR', 'SAND_INR', 'TRX_INR', 'SHIB_INR', 'OOKI_INR', 'AMB_INR', 'ALPACA_INR', 'PDA_INR', 'PUSH_INR', 'XTZ_INR', 'VSC_INR', 'KSM_INR', 'DGB_INR', 'SAGA_INR', 'XDB_INR', 'STORJ_INR', 'ZBU_INR', 'GAS_INR', 'CSIX_INR', 'EOS_INR', 'LRC_INR', 'RUNE_INR', 'PORTAL_INR', 'INJ_INR', 'XVG_INR', 'SIDUS_INR', 'ARB_INR', 'ORDI_INR', 'ALGO_INR', 'BICO_INR', 'APT_INR', 'REQ_INR', 'SUSHI_INR', 'WOO_INR', 'TRB_INR', 'SUPER_INR', 'ZIL_INR', 'ARKM_INR', 'CETUS_INR', 'NFP_INR', 'FIDA_INR', 'GALA_INR', 'FIL_INR', 'LINA_INR', 'XCAD_INR', 'ALT_INR', 'RLC_INR', 'NKN_INR', 'STRK_INR', 'DIA_INR', 'EWT_INR', 'OSMO_INR', 'PYR_INR', 'LEVER_INR', 'QI_INR', 'ENS_INR', 'BTC_INR', 'WAXP_INR', 'CREAM_INR', 'CSPR_INR', 'GLM_INR', 'MEME_INR', 'SUI_INR', 'DMTR_INR', 'RSR_INR', 'LOOM_INR', 'BOME_INR', 'OCEAN_INR', 'WAVES_INR', 'AR_INR', 'WIF_INR', 'TIA_INR', 'CHR_INR', 'THETA_INR', 'UMA_INR', 'VET_INR', 'PHB_INR', 'POLYX_INR', 'ICP_INR', 'BEAMX_INR', 'MYRIA_INR', 'COTI_INR', 'SUN_INR', 'BOBA_INR', 'XRP_INR', 'CELR_INR', 'AUDIO_INR', 'W_INR', 'CAKE_INR', 'VRA_INR', 'SOL_INR', 'BNB_INR', 'UNI_INR', 'NULS_INR', 'IMX_INR', 'CRV_INR', 'OMG_INR', 'BSW_INR', 'VTHO_INR', 'OM_INR', 'AKRO_INR', 'GMMT_INR', 'TOKEN_INR', 'ETHFI_INR', 'CKB_INR', 'MATIC_INR', 'DOGE_INR', 'ENA_INR', 'XLM_INR', 'YFI_INR', 'MANA_INR', 'DYDX_INR', 'ADA_INR', 'AEVO_INR', 'FLM_INR', 'TNSR_INR', 'MOVR_INR', 'WEMIX_INR', 'SEI_INR', 'IOST_INR', 'AXS_INR', 'APE_INR', 'BRISE_INR', 'ENJ_INR', 'USDT_INR', 'JTO_INR', 'REEF_INR', 'NAKA_INR', 'PYTH_INR', 'MKR_INR', 'DOT_INR', 'IOTX_INR', 'BCH_INR', 'IQ_INR', 'YFII_INR', 'TFUEL_INR', 'OMNI_INR', 'RNDR_INR', 'TAO_INR', 'NEAR_INR', 'JUP_INR', 'LCX_INR', 'BONK_INR', 'MINA_INR', 'MDX_INR', 'QNT_INR', 'FTM_INR', 'LINK_INR', 'ETH_INR', 'MANTA_INR', 'PERP_INR', 'XCN_INR', 'ZEC_INR', 'AAVE_INR', 'DFI_INR', 'SNX_INR', 'NMR_INR', 'HOT_INR', 'COMP_INR', 'ONE_INR', 'MTL_INR', 'KNC_INR', 'TLM_INR', 'WLD_INR', 'GMT_INR', 'SC_INR', 'CELO_INR', 'LUNA_INR', 'ACH_INR', 'POWR_INR', 'ROSE_INR', 'METIS_INR', 'BTTC_INR', 'ETC_INR', 'CHZ_INR', 'TWT_INR', 'DAO_INR', 'LPT_INR', 'CTSI_INR', 'SXP_INR', 'FXY_INR', 'AMP_INR', 'EGLD_INR', 'ANKR_INR', 'OGN_INR', 'XDC_INR', 'DEFI_INR', 'RIF_INR', 'WAXL_INR', 'RAY_INR', 'REN_INR', 'ALPHA_INR', 'MBL_INR', 'PDEX_INR', 'BLUR_INR', 'ORN_INR', 'TKO_INR', 'DAR_INR', 'ILV_INR', 'VOLT_INR', 'AGIX_INR', 'CVC_INR', 'ARV_INR', 'LDO_INR', 'TLOS_INR', 'ADX_INR', 'XAUT_INR', 'USDC_INR', 'ORBS_INR', 'AI_INR', 'HIGH_INR', 'WIN_INR', 'PROM_INR', 'ALICE_INR', 'LMWR_INR', 'DYM_INR', 'KAVA_INR', 'PHA_INR', 'MASK_INR', 'AZERO_INR', 'JOE_INR', 'HBAR_INR', 'OP_INR', 'MBOX_INR', 'ULTIMA_INR', 'AST_INR', 'SKL_INR', 'ATOM_INR', 'SYN_INR', 'FUN_INR', 'DATA_INR', 'XLD_INR', 'SANTOS_INR', 'FTT_INR', 'NEO_INR', 'EURT_INR', 'VINU_INR', 'TON_INR', 'CFX_INR', 'RONIN_INR', 'TUSD_INR', 'MAHA_INR', 'MARSH_INR', 'ELF_INR', 'DENT_INR', 'SOLO_INR', 'PAXG_INR', 'GFT_INR', 'DODO_INR', 'STX_INR', 'GRT_INR', 'FET_INR', 'PEOPLE_INR', 'DGTX_INR', 'DAI_INR']\n"
     ]
    }
   ],
   "source": [
    "#fetch available markets\n",
    "\n",
    "url = \"https://api.coindcx.com/exchange/v1/markets\"\n",
    "a = []\n",
    "response = requests.get(url)\n",
    "data = response.json()\n",
    "for i in data:\n",
    "    if i[-3:] == 'INR':\n",
    "        x = i[:-3] + \"_\" +i[-3:]\n",
    "        a.append(x)\n",
    "print(str(a))"
   ],
   "metadata": {
    "collapsed": false,
    "ExecuteTime": {
     "end_time": "2024-04-30T07:50:15.682086228Z",
     "start_time": "2024-04-30T07:50:15.145910763Z"
    }
   },
   "id": "43d577d22f6bfcd9",
   "execution_count": 33
  },
  {
   "cell_type": "code",
   "outputs": [
    {
     "name": "stdout",
     "output_type": "stream",
     "text": [
      "AMB_INR sell trade at 0.7736 13:20:25.080676\n",
      "ALPACA_INR   22.876874796315448 buy\n",
      "ALPACA_INR buy trade at 15.837 13:20:25.702708\n",
      "PDA_INR sell trade at 7.455 13:20:26.175614\n",
      "PUSH_INR sell trade at 19.825 13:20:26.704120\n",
      "XTZ_INR   26.38563625446033 buy\n",
      "XTZ_INR buy trade at 88.81 13:20:27.012891\n",
      "VSC_INR   0.0 buy\n",
      "VSC_INR buy trade at 2.1566 13:20:27.383606\n",
      "KSM_INR sell trade at 2654.29 13:20:27.740127\n",
      "DGB_INR   12.523284589026723 buy\n",
      "DGB_INR buy trade at 1.004 13:20:28.142971\n",
      "STORJ_INR sell trade at 50.0 13:20:29.284836\n",
      "ZBU_INR   0.0 buy\n",
      "ZBU_INR buy trade at 443 13:20:29.619453\n",
      "GAS_INR   7.8956750024929985 buy\n",
      "GAS_INR buy trade at 494.05 13:20:30.023307\n",
      "CSIX_INR   13.397696926247468 buy\n",
      "CSIX_INR buy trade at 5.2265 13:20:30.455251\n",
      "EOS_INR   14.611278694634969 buy\n",
      "EOS_INR buy trade at 71.08 13:20:30.847501\n",
      "ORDI_INR sell trade at 3887.28 13:20:34.286007\n"
     ]
    },
    {
     "ename": "KeyboardInterrupt",
     "evalue": "",
     "output_type": "error",
     "traceback": [
      "\u001B[0;31m---------------------------------------------------------------------------\u001B[0m",
      "\u001B[0;31mKeyboardInterrupt\u001B[0m                         Traceback (most recent call last)",
      "Cell \u001B[0;32mIn[34], line 6\u001B[0m\n\u001B[1;32m      4\u001B[0m trade_cap \u001B[38;5;241m=\u001B[39m \u001B[38;5;241m100\u001B[39m\n\u001B[1;32m      5\u001B[0m \u001B[38;5;28;01mfor\u001B[39;00m i \u001B[38;5;129;01min\u001B[39;00m a:\n\u001B[0;32m----> 6\u001B[0m     df\u001B[38;5;241m=\u001B[39m\u001B[43mdata_downloader\u001B[49m\u001B[43m(\u001B[49m\u001B[43mi\u001B[49m\u001B[43m,\u001B[49m\u001B[38;5;124;43m\"\u001B[39;49m\u001B[38;5;124;43m5m\u001B[39;49m\u001B[38;5;124;43m\"\u001B[39;49m\u001B[43m,\u001B[49m\u001B[38;5;124;43m\"\u001B[39;49m\u001B[38;5;124;43m50\u001B[39;49m\u001B[38;5;124;43m\"\u001B[39;49m\u001B[43m,\u001B[49m\u001B[38;5;124;43m\"\u001B[39;49m\u001B[38;5;124;43mI\u001B[39;49m\u001B[38;5;124;43m\"\u001B[39;49m\u001B[43m)\u001B[49m\n\u001B[1;32m      7\u001B[0m     df[\u001B[38;5;124m'\u001B[39m\u001B[38;5;124mrsi\u001B[39m\u001B[38;5;124m'\u001B[39m] \u001B[38;5;241m=\u001B[39m talib\u001B[38;5;241m.\u001B[39mRSI(df[\u001B[38;5;124m\"\u001B[39m\u001B[38;5;124mclose\u001B[39m\u001B[38;5;124m\"\u001B[39m],timeperiod\u001B[38;5;241m=\u001B[39m\u001B[38;5;241m15\u001B[39m)\n\u001B[1;32m      8\u001B[0m     rsi \u001B[38;5;241m=\u001B[39m df\u001B[38;5;241m.\u001B[39miloc[\u001B[38;5;241m-\u001B[39m\u001B[38;5;241m1\u001B[39m][\u001B[38;5;124m'\u001B[39m\u001B[38;5;124mrsi\u001B[39m\u001B[38;5;124m'\u001B[39m]\u001B[38;5;66;03m#rsi value of the last candle\u001B[39;00m\n",
      "Cell \u001B[0;32mIn[30], line 10\u001B[0m, in \u001B[0;36mdata_downloader\u001B[0;34m(pair, interval, limit, exchange)\u001B[0m\n\u001B[1;32m      8\u001B[0m \u001B[38;5;28;01mdef\u001B[39;00m \u001B[38;5;21mdata_downloader\u001B[39m(pair,interval,limit \u001B[38;5;241m=\u001B[39m \u001B[38;5;241m50\u001B[39m,exchange \u001B[38;5;241m=\u001B[39m \u001B[38;5;124m\"\u001B[39m\u001B[38;5;124mI\u001B[39m\u001B[38;5;124m\"\u001B[39m):\n\u001B[1;32m      9\u001B[0m     url \u001B[38;5;241m=\u001B[39m \u001B[38;5;124mf\u001B[39m\u001B[38;5;124m\"\u001B[39m\u001B[38;5;124mhttps://public.coindcx.com/market_data/candles?pair=\u001B[39m\u001B[38;5;132;01m{\u001B[39;00mexchange\u001B[38;5;132;01m}\u001B[39;00m\u001B[38;5;124m-\u001B[39m\u001B[38;5;132;01m{\u001B[39;00mpair\u001B[38;5;132;01m}\u001B[39;00m\u001B[38;5;124m&interval=\u001B[39m\u001B[38;5;132;01m{\u001B[39;00minterval\u001B[38;5;132;01m}\u001B[39;00m\u001B[38;5;124m&limit=\u001B[39m\u001B[38;5;132;01m{\u001B[39;00mlimit\u001B[38;5;132;01m}\u001B[39;00m\u001B[38;5;124m\"\u001B[39m \n\u001B[0;32m---> 10\u001B[0m     response \u001B[38;5;241m=\u001B[39m \u001B[43mrequests\u001B[49m\u001B[38;5;241;43m.\u001B[39;49m\u001B[43mget\u001B[49m\u001B[43m(\u001B[49m\u001B[43murl\u001B[49m\u001B[43m)\u001B[49m\n\u001B[1;32m     11\u001B[0m     data \u001B[38;5;241m=\u001B[39m response\u001B[38;5;241m.\u001B[39mjson()\n\u001B[1;32m     12\u001B[0m     df \u001B[38;5;241m=\u001B[39m pd\u001B[38;5;241m.\u001B[39mDataFrame(data)\n",
      "File \u001B[0;32m~/.local/lib/python3.10/site-packages/requests/api.py:76\u001B[0m, in \u001B[0;36mget\u001B[0;34m(url, params, **kwargs)\u001B[0m\n\u001B[1;32m     65\u001B[0m \u001B[38;5;250m\u001B[39m\u001B[38;5;124mr\u001B[39m\u001B[38;5;124;03m\"\"\"Sends a GET request.\u001B[39;00m\n\u001B[1;32m     66\u001B[0m \n\u001B[1;32m     67\u001B[0m \u001B[38;5;124;03m:param url: URL for the new :class:`Request` object.\u001B[39;00m\n\u001B[0;32m   (...)\u001B[0m\n\u001B[1;32m     72\u001B[0m \u001B[38;5;124;03m:rtype: requests.Response\u001B[39;00m\n\u001B[1;32m     73\u001B[0m \u001B[38;5;124;03m\"\"\"\u001B[39;00m\n\u001B[1;32m     75\u001B[0m kwargs\u001B[38;5;241m.\u001B[39msetdefault(\u001B[38;5;124m'\u001B[39m\u001B[38;5;124mallow_redirects\u001B[39m\u001B[38;5;124m'\u001B[39m, \u001B[38;5;28;01mTrue\u001B[39;00m)\n\u001B[0;32m---> 76\u001B[0m \u001B[38;5;28;01mreturn\u001B[39;00m \u001B[43mrequest\u001B[49m\u001B[43m(\u001B[49m\u001B[38;5;124;43m'\u001B[39;49m\u001B[38;5;124;43mget\u001B[39;49m\u001B[38;5;124;43m'\u001B[39;49m\u001B[43m,\u001B[49m\u001B[43m \u001B[49m\u001B[43murl\u001B[49m\u001B[43m,\u001B[49m\u001B[43m \u001B[49m\u001B[43mparams\u001B[49m\u001B[38;5;241;43m=\u001B[39;49m\u001B[43mparams\u001B[49m\u001B[43m,\u001B[49m\u001B[43m \u001B[49m\u001B[38;5;241;43m*\u001B[39;49m\u001B[38;5;241;43m*\u001B[39;49m\u001B[43mkwargs\u001B[49m\u001B[43m)\u001B[49m\n",
      "File \u001B[0;32m~/.local/lib/python3.10/site-packages/requests/api.py:61\u001B[0m, in \u001B[0;36mrequest\u001B[0;34m(method, url, **kwargs)\u001B[0m\n\u001B[1;32m     57\u001B[0m \u001B[38;5;66;03m# By using the 'with' statement we are sure the session is closed, thus we\u001B[39;00m\n\u001B[1;32m     58\u001B[0m \u001B[38;5;66;03m# avoid leaving sockets open which can trigger a ResourceWarning in some\u001B[39;00m\n\u001B[1;32m     59\u001B[0m \u001B[38;5;66;03m# cases, and look like a memory leak in others.\u001B[39;00m\n\u001B[1;32m     60\u001B[0m \u001B[38;5;28;01mwith\u001B[39;00m sessions\u001B[38;5;241m.\u001B[39mSession() \u001B[38;5;28;01mas\u001B[39;00m session:\n\u001B[0;32m---> 61\u001B[0m     \u001B[38;5;28;01mreturn\u001B[39;00m \u001B[43msession\u001B[49m\u001B[38;5;241;43m.\u001B[39;49m\u001B[43mrequest\u001B[49m\u001B[43m(\u001B[49m\u001B[43mmethod\u001B[49m\u001B[38;5;241;43m=\u001B[39;49m\u001B[43mmethod\u001B[49m\u001B[43m,\u001B[49m\u001B[43m \u001B[49m\u001B[43murl\u001B[49m\u001B[38;5;241;43m=\u001B[39;49m\u001B[43murl\u001B[49m\u001B[43m,\u001B[49m\u001B[43m \u001B[49m\u001B[38;5;241;43m*\u001B[39;49m\u001B[38;5;241;43m*\u001B[39;49m\u001B[43mkwargs\u001B[49m\u001B[43m)\u001B[49m\n",
      "File \u001B[0;32m~/.local/lib/python3.10/site-packages/requests/sessions.py:530\u001B[0m, in \u001B[0;36mSession.request\u001B[0;34m(self, method, url, params, data, headers, cookies, files, auth, timeout, allow_redirects, proxies, hooks, stream, verify, cert, json)\u001B[0m\n\u001B[1;32m    525\u001B[0m send_kwargs \u001B[38;5;241m=\u001B[39m {\n\u001B[1;32m    526\u001B[0m     \u001B[38;5;124m'\u001B[39m\u001B[38;5;124mtimeout\u001B[39m\u001B[38;5;124m'\u001B[39m: timeout,\n\u001B[1;32m    527\u001B[0m     \u001B[38;5;124m'\u001B[39m\u001B[38;5;124mallow_redirects\u001B[39m\u001B[38;5;124m'\u001B[39m: allow_redirects,\n\u001B[1;32m    528\u001B[0m }\n\u001B[1;32m    529\u001B[0m send_kwargs\u001B[38;5;241m.\u001B[39mupdate(settings)\n\u001B[0;32m--> 530\u001B[0m resp \u001B[38;5;241m=\u001B[39m \u001B[38;5;28;43mself\u001B[39;49m\u001B[38;5;241;43m.\u001B[39;49m\u001B[43msend\u001B[49m\u001B[43m(\u001B[49m\u001B[43mprep\u001B[49m\u001B[43m,\u001B[49m\u001B[43m \u001B[49m\u001B[38;5;241;43m*\u001B[39;49m\u001B[38;5;241;43m*\u001B[39;49m\u001B[43msend_kwargs\u001B[49m\u001B[43m)\u001B[49m\n\u001B[1;32m    532\u001B[0m \u001B[38;5;28;01mreturn\u001B[39;00m resp\n",
      "File \u001B[0;32m~/.local/lib/python3.10/site-packages/requests/sessions.py:643\u001B[0m, in \u001B[0;36mSession.send\u001B[0;34m(self, request, **kwargs)\u001B[0m\n\u001B[1;32m    640\u001B[0m start \u001B[38;5;241m=\u001B[39m preferred_clock()\n\u001B[1;32m    642\u001B[0m \u001B[38;5;66;03m# Send the request\u001B[39;00m\n\u001B[0;32m--> 643\u001B[0m r \u001B[38;5;241m=\u001B[39m \u001B[43madapter\u001B[49m\u001B[38;5;241;43m.\u001B[39;49m\u001B[43msend\u001B[49m\u001B[43m(\u001B[49m\u001B[43mrequest\u001B[49m\u001B[43m,\u001B[49m\u001B[43m \u001B[49m\u001B[38;5;241;43m*\u001B[39;49m\u001B[38;5;241;43m*\u001B[39;49m\u001B[43mkwargs\u001B[49m\u001B[43m)\u001B[49m\n\u001B[1;32m    645\u001B[0m \u001B[38;5;66;03m# Total elapsed time of the request (approximately)\u001B[39;00m\n\u001B[1;32m    646\u001B[0m elapsed \u001B[38;5;241m=\u001B[39m preferred_clock() \u001B[38;5;241m-\u001B[39m start\n",
      "File \u001B[0;32m~/.local/lib/python3.10/site-packages/requests/adapters.py:439\u001B[0m, in \u001B[0;36mHTTPAdapter.send\u001B[0;34m(self, request, stream, timeout, verify, cert, proxies)\u001B[0m\n\u001B[1;32m    437\u001B[0m \u001B[38;5;28;01mtry\u001B[39;00m:\n\u001B[1;32m    438\u001B[0m     \u001B[38;5;28;01mif\u001B[39;00m \u001B[38;5;129;01mnot\u001B[39;00m chunked:\n\u001B[0;32m--> 439\u001B[0m         resp \u001B[38;5;241m=\u001B[39m \u001B[43mconn\u001B[49m\u001B[38;5;241;43m.\u001B[39;49m\u001B[43murlopen\u001B[49m\u001B[43m(\u001B[49m\n\u001B[1;32m    440\u001B[0m \u001B[43m            \u001B[49m\u001B[43mmethod\u001B[49m\u001B[38;5;241;43m=\u001B[39;49m\u001B[43mrequest\u001B[49m\u001B[38;5;241;43m.\u001B[39;49m\u001B[43mmethod\u001B[49m\u001B[43m,\u001B[49m\n\u001B[1;32m    441\u001B[0m \u001B[43m            \u001B[49m\u001B[43murl\u001B[49m\u001B[38;5;241;43m=\u001B[39;49m\u001B[43murl\u001B[49m\u001B[43m,\u001B[49m\n\u001B[1;32m    442\u001B[0m \u001B[43m            \u001B[49m\u001B[43mbody\u001B[49m\u001B[38;5;241;43m=\u001B[39;49m\u001B[43mrequest\u001B[49m\u001B[38;5;241;43m.\u001B[39;49m\u001B[43mbody\u001B[49m\u001B[43m,\u001B[49m\n\u001B[1;32m    443\u001B[0m \u001B[43m            \u001B[49m\u001B[43mheaders\u001B[49m\u001B[38;5;241;43m=\u001B[39;49m\u001B[43mrequest\u001B[49m\u001B[38;5;241;43m.\u001B[39;49m\u001B[43mheaders\u001B[49m\u001B[43m,\u001B[49m\n\u001B[1;32m    444\u001B[0m \u001B[43m            \u001B[49m\u001B[43mredirect\u001B[49m\u001B[38;5;241;43m=\u001B[39;49m\u001B[38;5;28;43;01mFalse\u001B[39;49;00m\u001B[43m,\u001B[49m\n\u001B[1;32m    445\u001B[0m \u001B[43m            \u001B[49m\u001B[43massert_same_host\u001B[49m\u001B[38;5;241;43m=\u001B[39;49m\u001B[38;5;28;43;01mFalse\u001B[39;49;00m\u001B[43m,\u001B[49m\n\u001B[1;32m    446\u001B[0m \u001B[43m            \u001B[49m\u001B[43mpreload_content\u001B[49m\u001B[38;5;241;43m=\u001B[39;49m\u001B[38;5;28;43;01mFalse\u001B[39;49;00m\u001B[43m,\u001B[49m\n\u001B[1;32m    447\u001B[0m \u001B[43m            \u001B[49m\u001B[43mdecode_content\u001B[49m\u001B[38;5;241;43m=\u001B[39;49m\u001B[38;5;28;43;01mFalse\u001B[39;49;00m\u001B[43m,\u001B[49m\n\u001B[1;32m    448\u001B[0m \u001B[43m            \u001B[49m\u001B[43mretries\u001B[49m\u001B[38;5;241;43m=\u001B[39;49m\u001B[38;5;28;43mself\u001B[39;49m\u001B[38;5;241;43m.\u001B[39;49m\u001B[43mmax_retries\u001B[49m\u001B[43m,\u001B[49m\n\u001B[1;32m    449\u001B[0m \u001B[43m            \u001B[49m\u001B[43mtimeout\u001B[49m\u001B[38;5;241;43m=\u001B[39;49m\u001B[43mtimeout\u001B[49m\n\u001B[1;32m    450\u001B[0m \u001B[43m        \u001B[49m\u001B[43m)\u001B[49m\n\u001B[1;32m    452\u001B[0m     \u001B[38;5;66;03m# Send the request.\u001B[39;00m\n\u001B[1;32m    453\u001B[0m     \u001B[38;5;28;01melse\u001B[39;00m:\n\u001B[1;32m    454\u001B[0m         \u001B[38;5;28;01mif\u001B[39;00m \u001B[38;5;28mhasattr\u001B[39m(conn, \u001B[38;5;124m'\u001B[39m\u001B[38;5;124mproxy_pool\u001B[39m\u001B[38;5;124m'\u001B[39m):\n",
      "File \u001B[0;32m~/.local/lib/python3.10/site-packages/urllib3/connectionpool.py:670\u001B[0m, in \u001B[0;36mHTTPConnectionPool.urlopen\u001B[0;34m(self, method, url, body, headers, retries, redirect, assert_same_host, timeout, pool_timeout, release_conn, chunked, body_pos, **response_kw)\u001B[0m\n\u001B[1;32m    667\u001B[0m     \u001B[38;5;28mself\u001B[39m\u001B[38;5;241m.\u001B[39m_prepare_proxy(conn)\n\u001B[1;32m    669\u001B[0m \u001B[38;5;66;03m# Make the request on the httplib connection object.\u001B[39;00m\n\u001B[0;32m--> 670\u001B[0m httplib_response \u001B[38;5;241m=\u001B[39m \u001B[38;5;28;43mself\u001B[39;49m\u001B[38;5;241;43m.\u001B[39;49m\u001B[43m_make_request\u001B[49m\u001B[43m(\u001B[49m\n\u001B[1;32m    671\u001B[0m \u001B[43m    \u001B[49m\u001B[43mconn\u001B[49m\u001B[43m,\u001B[49m\n\u001B[1;32m    672\u001B[0m \u001B[43m    \u001B[49m\u001B[43mmethod\u001B[49m\u001B[43m,\u001B[49m\n\u001B[1;32m    673\u001B[0m \u001B[43m    \u001B[49m\u001B[43murl\u001B[49m\u001B[43m,\u001B[49m\n\u001B[1;32m    674\u001B[0m \u001B[43m    \u001B[49m\u001B[43mtimeout\u001B[49m\u001B[38;5;241;43m=\u001B[39;49m\u001B[43mtimeout_obj\u001B[49m\u001B[43m,\u001B[49m\n\u001B[1;32m    675\u001B[0m \u001B[43m    \u001B[49m\u001B[43mbody\u001B[49m\u001B[38;5;241;43m=\u001B[39;49m\u001B[43mbody\u001B[49m\u001B[43m,\u001B[49m\n\u001B[1;32m    676\u001B[0m \u001B[43m    \u001B[49m\u001B[43mheaders\u001B[49m\u001B[38;5;241;43m=\u001B[39;49m\u001B[43mheaders\u001B[49m\u001B[43m,\u001B[49m\n\u001B[1;32m    677\u001B[0m \u001B[43m    \u001B[49m\u001B[43mchunked\u001B[49m\u001B[38;5;241;43m=\u001B[39;49m\u001B[43mchunked\u001B[49m\u001B[43m,\u001B[49m\n\u001B[1;32m    678\u001B[0m \u001B[43m\u001B[49m\u001B[43m)\u001B[49m\n\u001B[1;32m    680\u001B[0m \u001B[38;5;66;03m# If we're going to release the connection in ``finally:``, then\u001B[39;00m\n\u001B[1;32m    681\u001B[0m \u001B[38;5;66;03m# the response doesn't need to know about the connection. Otherwise\u001B[39;00m\n\u001B[1;32m    682\u001B[0m \u001B[38;5;66;03m# it will also try to release it and we'll have a double-release\u001B[39;00m\n\u001B[1;32m    683\u001B[0m \u001B[38;5;66;03m# mess.\u001B[39;00m\n\u001B[1;32m    684\u001B[0m response_conn \u001B[38;5;241m=\u001B[39m conn \u001B[38;5;28;01mif\u001B[39;00m \u001B[38;5;129;01mnot\u001B[39;00m release_conn \u001B[38;5;28;01melse\u001B[39;00m \u001B[38;5;28;01mNone\u001B[39;00m\n",
      "File \u001B[0;32m~/.local/lib/python3.10/site-packages/urllib3/connectionpool.py:426\u001B[0m, in \u001B[0;36mHTTPConnectionPool._make_request\u001B[0;34m(self, conn, method, url, timeout, chunked, **httplib_request_kw)\u001B[0m\n\u001B[1;32m    421\u001B[0m             httplib_response \u001B[38;5;241m=\u001B[39m conn\u001B[38;5;241m.\u001B[39mgetresponse()\n\u001B[1;32m    422\u001B[0m         \u001B[38;5;28;01mexcept\u001B[39;00m \u001B[38;5;167;01mBaseException\u001B[39;00m \u001B[38;5;28;01mas\u001B[39;00m e:\n\u001B[1;32m    423\u001B[0m             \u001B[38;5;66;03m# Remove the TypeError from the exception chain in\u001B[39;00m\n\u001B[1;32m    424\u001B[0m             \u001B[38;5;66;03m# Python 3 (including for exceptions like SystemExit).\u001B[39;00m\n\u001B[1;32m    425\u001B[0m             \u001B[38;5;66;03m# Otherwise it looks like a bug in the code.\u001B[39;00m\n\u001B[0;32m--> 426\u001B[0m             \u001B[43msix\u001B[49m\u001B[38;5;241;43m.\u001B[39;49m\u001B[43mraise_from\u001B[49m\u001B[43m(\u001B[49m\u001B[43me\u001B[49m\u001B[43m,\u001B[49m\u001B[43m \u001B[49m\u001B[38;5;28;43;01mNone\u001B[39;49;00m\u001B[43m)\u001B[49m\n\u001B[1;32m    427\u001B[0m \u001B[38;5;28;01mexcept\u001B[39;00m (SocketTimeout, BaseSSLError, SocketError) \u001B[38;5;28;01mas\u001B[39;00m e:\n\u001B[1;32m    428\u001B[0m     \u001B[38;5;28mself\u001B[39m\u001B[38;5;241m.\u001B[39m_raise_timeout(err\u001B[38;5;241m=\u001B[39me, url\u001B[38;5;241m=\u001B[39murl, timeout_value\u001B[38;5;241m=\u001B[39mread_timeout)\n",
      "File \u001B[0;32m<string>:3\u001B[0m, in \u001B[0;36mraise_from\u001B[0;34m(value, from_value)\u001B[0m\n",
      "File \u001B[0;32m~/.local/lib/python3.10/site-packages/urllib3/connectionpool.py:421\u001B[0m, in \u001B[0;36mHTTPConnectionPool._make_request\u001B[0;34m(self, conn, method, url, timeout, chunked, **httplib_request_kw)\u001B[0m\n\u001B[1;32m    418\u001B[0m \u001B[38;5;28;01mexcept\u001B[39;00m \u001B[38;5;167;01mTypeError\u001B[39;00m:\n\u001B[1;32m    419\u001B[0m     \u001B[38;5;66;03m# Python 3\u001B[39;00m\n\u001B[1;32m    420\u001B[0m     \u001B[38;5;28;01mtry\u001B[39;00m:\n\u001B[0;32m--> 421\u001B[0m         httplib_response \u001B[38;5;241m=\u001B[39m \u001B[43mconn\u001B[49m\u001B[38;5;241;43m.\u001B[39;49m\u001B[43mgetresponse\u001B[49m\u001B[43m(\u001B[49m\u001B[43m)\u001B[49m\n\u001B[1;32m    422\u001B[0m     \u001B[38;5;28;01mexcept\u001B[39;00m \u001B[38;5;167;01mBaseException\u001B[39;00m \u001B[38;5;28;01mas\u001B[39;00m e:\n\u001B[1;32m    423\u001B[0m         \u001B[38;5;66;03m# Remove the TypeError from the exception chain in\u001B[39;00m\n\u001B[1;32m    424\u001B[0m         \u001B[38;5;66;03m# Python 3 (including for exceptions like SystemExit).\u001B[39;00m\n\u001B[1;32m    425\u001B[0m         \u001B[38;5;66;03m# Otherwise it looks like a bug in the code.\u001B[39;00m\n\u001B[1;32m    426\u001B[0m         six\u001B[38;5;241m.\u001B[39mraise_from(e, \u001B[38;5;28;01mNone\u001B[39;00m)\n",
      "File \u001B[0;32m/usr/lib/python3.10/http/client.py:1375\u001B[0m, in \u001B[0;36mHTTPConnection.getresponse\u001B[0;34m(self)\u001B[0m\n\u001B[1;32m   1373\u001B[0m \u001B[38;5;28;01mtry\u001B[39;00m:\n\u001B[1;32m   1374\u001B[0m     \u001B[38;5;28;01mtry\u001B[39;00m:\n\u001B[0;32m-> 1375\u001B[0m         \u001B[43mresponse\u001B[49m\u001B[38;5;241;43m.\u001B[39;49m\u001B[43mbegin\u001B[49m\u001B[43m(\u001B[49m\u001B[43m)\u001B[49m\n\u001B[1;32m   1376\u001B[0m     \u001B[38;5;28;01mexcept\u001B[39;00m \u001B[38;5;167;01mConnectionError\u001B[39;00m:\n\u001B[1;32m   1377\u001B[0m         \u001B[38;5;28mself\u001B[39m\u001B[38;5;241m.\u001B[39mclose()\n",
      "File \u001B[0;32m/usr/lib/python3.10/http/client.py:318\u001B[0m, in \u001B[0;36mHTTPResponse.begin\u001B[0;34m(self)\u001B[0m\n\u001B[1;32m    316\u001B[0m \u001B[38;5;66;03m# read until we get a non-100 response\u001B[39;00m\n\u001B[1;32m    317\u001B[0m \u001B[38;5;28;01mwhile\u001B[39;00m \u001B[38;5;28;01mTrue\u001B[39;00m:\n\u001B[0;32m--> 318\u001B[0m     version, status, reason \u001B[38;5;241m=\u001B[39m \u001B[38;5;28;43mself\u001B[39;49m\u001B[38;5;241;43m.\u001B[39;49m\u001B[43m_read_status\u001B[49m\u001B[43m(\u001B[49m\u001B[43m)\u001B[49m\n\u001B[1;32m    319\u001B[0m     \u001B[38;5;28;01mif\u001B[39;00m status \u001B[38;5;241m!=\u001B[39m CONTINUE:\n\u001B[1;32m    320\u001B[0m         \u001B[38;5;28;01mbreak\u001B[39;00m\n",
      "File \u001B[0;32m/usr/lib/python3.10/http/client.py:279\u001B[0m, in \u001B[0;36mHTTPResponse._read_status\u001B[0;34m(self)\u001B[0m\n\u001B[1;32m    278\u001B[0m \u001B[38;5;28;01mdef\u001B[39;00m \u001B[38;5;21m_read_status\u001B[39m(\u001B[38;5;28mself\u001B[39m):\n\u001B[0;32m--> 279\u001B[0m     line \u001B[38;5;241m=\u001B[39m \u001B[38;5;28mstr\u001B[39m(\u001B[38;5;28;43mself\u001B[39;49m\u001B[38;5;241;43m.\u001B[39;49m\u001B[43mfp\u001B[49m\u001B[38;5;241;43m.\u001B[39;49m\u001B[43mreadline\u001B[49m\u001B[43m(\u001B[49m\u001B[43m_MAXLINE\u001B[49m\u001B[43m \u001B[49m\u001B[38;5;241;43m+\u001B[39;49m\u001B[43m \u001B[49m\u001B[38;5;241;43m1\u001B[39;49m\u001B[43m)\u001B[49m, \u001B[38;5;124m\"\u001B[39m\u001B[38;5;124miso-8859-1\u001B[39m\u001B[38;5;124m\"\u001B[39m)\n\u001B[1;32m    280\u001B[0m     \u001B[38;5;28;01mif\u001B[39;00m \u001B[38;5;28mlen\u001B[39m(line) \u001B[38;5;241m>\u001B[39m _MAXLINE:\n\u001B[1;32m    281\u001B[0m         \u001B[38;5;28;01mraise\u001B[39;00m LineTooLong(\u001B[38;5;124m\"\u001B[39m\u001B[38;5;124mstatus line\u001B[39m\u001B[38;5;124m\"\u001B[39m)\n",
      "File \u001B[0;32m/usr/lib/python3.10/socket.py:705\u001B[0m, in \u001B[0;36mSocketIO.readinto\u001B[0;34m(self, b)\u001B[0m\n\u001B[1;32m    703\u001B[0m \u001B[38;5;28;01mwhile\u001B[39;00m \u001B[38;5;28;01mTrue\u001B[39;00m:\n\u001B[1;32m    704\u001B[0m     \u001B[38;5;28;01mtry\u001B[39;00m:\n\u001B[0;32m--> 705\u001B[0m         \u001B[38;5;28;01mreturn\u001B[39;00m \u001B[38;5;28;43mself\u001B[39;49m\u001B[38;5;241;43m.\u001B[39;49m\u001B[43m_sock\u001B[49m\u001B[38;5;241;43m.\u001B[39;49m\u001B[43mrecv_into\u001B[49m\u001B[43m(\u001B[49m\u001B[43mb\u001B[49m\u001B[43m)\u001B[49m\n\u001B[1;32m    706\u001B[0m     \u001B[38;5;28;01mexcept\u001B[39;00m timeout:\n\u001B[1;32m    707\u001B[0m         \u001B[38;5;28mself\u001B[39m\u001B[38;5;241m.\u001B[39m_timeout_occurred \u001B[38;5;241m=\u001B[39m \u001B[38;5;28;01mTrue\u001B[39;00m\n",
      "File \u001B[0;32m/usr/lib/python3.10/ssl.py:1303\u001B[0m, in \u001B[0;36mSSLSocket.recv_into\u001B[0;34m(self, buffer, nbytes, flags)\u001B[0m\n\u001B[1;32m   1299\u001B[0m     \u001B[38;5;28;01mif\u001B[39;00m flags \u001B[38;5;241m!=\u001B[39m \u001B[38;5;241m0\u001B[39m:\n\u001B[1;32m   1300\u001B[0m         \u001B[38;5;28;01mraise\u001B[39;00m \u001B[38;5;167;01mValueError\u001B[39;00m(\n\u001B[1;32m   1301\u001B[0m           \u001B[38;5;124m\"\u001B[39m\u001B[38;5;124mnon-zero flags not allowed in calls to recv_into() on \u001B[39m\u001B[38;5;132;01m%s\u001B[39;00m\u001B[38;5;124m\"\u001B[39m \u001B[38;5;241m%\u001B[39m\n\u001B[1;32m   1302\u001B[0m           \u001B[38;5;28mself\u001B[39m\u001B[38;5;241m.\u001B[39m\u001B[38;5;18m__class__\u001B[39m)\n\u001B[0;32m-> 1303\u001B[0m     \u001B[38;5;28;01mreturn\u001B[39;00m \u001B[38;5;28;43mself\u001B[39;49m\u001B[38;5;241;43m.\u001B[39;49m\u001B[43mread\u001B[49m\u001B[43m(\u001B[49m\u001B[43mnbytes\u001B[49m\u001B[43m,\u001B[49m\u001B[43m \u001B[49m\u001B[43mbuffer\u001B[49m\u001B[43m)\u001B[49m\n\u001B[1;32m   1304\u001B[0m \u001B[38;5;28;01melse\u001B[39;00m:\n\u001B[1;32m   1305\u001B[0m     \u001B[38;5;28;01mreturn\u001B[39;00m \u001B[38;5;28msuper\u001B[39m()\u001B[38;5;241m.\u001B[39mrecv_into(buffer, nbytes, flags)\n",
      "File \u001B[0;32m/usr/lib/python3.10/ssl.py:1159\u001B[0m, in \u001B[0;36mSSLSocket.read\u001B[0;34m(self, len, buffer)\u001B[0m\n\u001B[1;32m   1157\u001B[0m \u001B[38;5;28;01mtry\u001B[39;00m:\n\u001B[1;32m   1158\u001B[0m     \u001B[38;5;28;01mif\u001B[39;00m buffer \u001B[38;5;129;01mis\u001B[39;00m \u001B[38;5;129;01mnot\u001B[39;00m \u001B[38;5;28;01mNone\u001B[39;00m:\n\u001B[0;32m-> 1159\u001B[0m         \u001B[38;5;28;01mreturn\u001B[39;00m \u001B[38;5;28;43mself\u001B[39;49m\u001B[38;5;241;43m.\u001B[39;49m\u001B[43m_sslobj\u001B[49m\u001B[38;5;241;43m.\u001B[39;49m\u001B[43mread\u001B[49m\u001B[43m(\u001B[49m\u001B[38;5;28;43mlen\u001B[39;49m\u001B[43m,\u001B[49m\u001B[43m \u001B[49m\u001B[43mbuffer\u001B[49m\u001B[43m)\u001B[49m\n\u001B[1;32m   1160\u001B[0m     \u001B[38;5;28;01melse\u001B[39;00m:\n\u001B[1;32m   1161\u001B[0m         \u001B[38;5;28;01mreturn\u001B[39;00m \u001B[38;5;28mself\u001B[39m\u001B[38;5;241m.\u001B[39m_sslobj\u001B[38;5;241m.\u001B[39mread(\u001B[38;5;28mlen\u001B[39m)\n",
      "\u001B[0;31mKeyboardInterrupt\u001B[0m: "
     ]
    }
   ],
   "source": [
    "#analysis and placing order \n",
    "trade_cap = 100\n",
    "for i in a:\n",
    "    df=data_downloader(i,\"5m\",\"50\",\"I\")\n",
    "    df['rsi'] = talib.RSI(df[\"close\"],timeperiod=15)\n",
    "    rsi = df.iloc[-1]['rsi']#rsi value of the last candle\n",
    "    close = df.iloc[-1]['close']#close value of last candle\n",
    "    date = dt.datetime.now().date()\n",
    "    time_start = dt.datetime.now()\n",
    "    entry_price = df.iloc[-1]['close']\n",
    "    if rsi >70:\n",
    "        quantity = round(trade_cap/close,2)\n",
    "        res = place_order(\"sell\",i,df[\"close\"],quantity)\n",
    "        print(f'{i} sell trade at {close} {dt.datetime.now().time()}')\n",
    "    if rsi <30:\n",
    "        quantity = round(trade_cap/close,2)\n",
    "        res = place_order(\"buy\", i, df['close'],quantity)        \n",
    "        print(i,\" \",rsi, 'buy')\n",
    "        print(f'{i} buy trade at {close} {dt.datetime.now().time()}')"
   ],
   "metadata": {
    "collapsed": false,
    "ExecuteTime": {
     "end_time": "2024-04-30T07:50:35.089093952Z",
     "start_time": "2024-04-30T07:50:15.688276610Z"
    }
   },
   "id": "895b62f37bd12443",
   "execution_count": 34
  }
 ],
 "metadata": {
  "kernelspec": {
   "display_name": "Python 3",
   "language": "python",
   "name": "python3"
  },
  "language_info": {
   "codemirror_mode": {
    "name": "ipython",
    "version": 2
   },
   "file_extension": ".py",
   "mimetype": "text/x-python",
   "name": "python",
   "nbconvert_exporter": "python",
   "pygments_lexer": "ipython2",
   "version": "2.7.6"
  }
 },
 "nbformat": 4,
 "nbformat_minor": 5
}
